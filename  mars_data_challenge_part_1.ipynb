{
 "cells": [
  {
   "cell_type": "code",
<<<<<<< HEAD
   "execution_count": null,
=======
   "execution_count": 1,
>>>>>>> 6ef92f707c5c71f5affb1d078963775edb630959
   "id": "7eb5b872",
   "metadata": {},
   "outputs": [],
   "source": [
    "# Dependencies\n",
    "from splinter import Browser\n",
    "from bs4 import BeautifulSoup\n",
<<<<<<< HEAD
    "from webdriver_manager.chrome import ChromeDriverManager\n",
    "import requests"
=======
    "from webdriver_manager.chrome import ChromeDriverManager"
>>>>>>> 6ef92f707c5c71f5affb1d078963775edb630959
   ]
  },
  {
   "cell_type": "code",
<<<<<<< HEAD
   "execution_count": null,
=======
   "execution_count": 2,
>>>>>>> 6ef92f707c5c71f5affb1d078963775edb630959
   "id": "72011a75",
   "metadata": {},
   "outputs": [],
   "source": [
    "executable_path = {'executable_path': ChromeDriverManager().install()}\n",
    "browser = Browser('chrome', **executable_path, headless=False)"
   ]
  },
  {
   "cell_type": "code",
<<<<<<< HEAD
   "execution_count": null,
=======
   "execution_count": 3,
>>>>>>> 6ef92f707c5c71f5affb1d078963775edb630959
   "id": "432f71a3",
   "metadata": {},
   "outputs": [],
   "source": [
    "url = 'https://redplanetscience.com/'\n",
    "browser.visit(url)"
   ]
  },
  {
   "cell_type": "code",
<<<<<<< HEAD
   "execution_count": null,
   "id": "88cfbfb6",
   "metadata": {},
   "outputs": [],
   "source": [
    "titles_list = []"
   ]
  },
  {
   "cell_type": "code",
   "execution_count": null,
   "id": "45fd1f71",
   "metadata": {},
   "outputs": [],
=======
   "execution_count": 14,
   "id": "45fd1f71",
   "metadata": {},
   "outputs": [
    {
     "name": "stdout",
     "output_type": "stream",
     "text": [
      "{'Title': 'Heat and Dust Help Launch Martian Water Into Space, Scientists Find', 'Preview': 'Scientists using an instrument aboard NASA’s Mars Atmosphere and Volatile EvolutioN, or MAVEN, spacecraft have discovered that water vapor near the surface of the Red Planet is lofted higher into the atmosphere than anyone expected was possible. '}\n",
      "{'Title': \"NASA's Mars 2020 Rover Goes Coast-to-Coast to Prep for Launch\", 'Preview': \"The agency's first step in returning rocks from Mars just arrived at Kennedy Space Center. The Mars 2020 team now begins readying for a launch to the Red Planet this July.\"}\n",
      "{'Title': \"3 Things We've Learned From NASA's Mars InSight \", 'Preview': 'Scientists are finding new mysteries since the geophysics mission landed two years ago.'}\n",
      "{'Title': \"Celebrate Mars Reconnaissance Orbiter's Views From Above\", 'Preview': 'Marking its 15th anniversary since launch, one of the oldest spacecraft at the Red Planet has provided glimpses of dust devils, avalanches, and more.'}\n",
      "{'Title': \"A Martian Roundtrip: NASA's Perseverance Rover Sample Tubes\", 'Preview': \"Marvels of engineering, the rover's sample tubes must be tough enough to safely bring Red Planet samples on the long journey back to Earth in immaculate condition. \"}\n",
      "{'Title': \"NASA Readies Perseverance Mars Rover's Earthly Twin \", 'Preview': \"Did you know NASA's next Mars rover has a nearly identical sibling on Earth for testing? Even better, it's about to roll for the first time through a replica Martian landscape.\"}\n",
      "{'Title': \"NASA's New Mars Rover Is Ready for Space Lasers\", 'Preview': 'Perseverance is one of a few Mars spacecraft carrying laser retroreflectors. The devices could provide new science and safer Mars landings in the future.'}\n",
      "{'Title': \"NASA InSight's 'Mole' Is Out of Sight\", 'Preview': \"Now that the heat probe is just below the Martian surface, InSight's arm will scoop some additional soil on top to help it keep digging so it can take Mars' temperature.\"}\n",
      "{'Title': \"Media Get a Close-Up of NASA's Mars 2020 Rover\", 'Preview': \"The clean room at NASA's Jet Propulsion Laboratory was open to the media to see NASA's next Mars explorer before it leaves for Florida in preparation for a summertime launch.\"}\n",
      "{'Title': \"Common Questions about InSight's 'Mole'\", 'Preview': 'The following Q&As with members of the team answer some of the most common questions about the burrowing device, part of a science instrument called the Heat Flow and Physical Properties Package (HP3).'}\n",
      "{'Title': 'NASA Administrator Statement on Moon to Mars Initiative, FY 2021 Budget', 'Preview': \"Jim Bridenstine addresses NASA's ambitious plans for the coming years, including Mars Sample Return.\"}\n",
      "{'Title': 'With Mars Methane Mystery Unsolved, Curiosity Serves Scientists a New One: Oxygen', 'Preview': 'For the first time in the history of space exploration, scientists have measured the seasonal changes in the gases that fill the air directly above the surface of Gale Crater on Mars. '}\n",
      "{'Title': 'Scientists Explore Outback as Testbed for Mars ', 'Preview': \"Australia provides a great place for NASA's Mars 2020 and the ESA-Roscosmos ExoMars scientists to hone techniques in preparation for searching for signs ancient life on Mars.\"}\n",
      "{'Title': \"NASA's Perseverance Rover Is Midway to Mars \", 'Preview': \"Sometimes half measures can be a good thing – especially on a journey this long. The agency's latest rover only has about 146 million miles left to reach its destination.\"}\n",
      "{'Title': \"NASA's Perseverance Mars Rover Gets Balanced\", 'Preview': \"The mission team performed a crucial weight-balancing test on the rover in preparation for this summer's history-making launch to the Red Planet.\"}\n"
     ]
    }
   ],
>>>>>>> 6ef92f707c5c71f5affb1d078963775edb630959
   "source": [
    "\n",
    "for x in range(1):\n",
    "    \n",
    "    html = browser.html\n",
    "    # Parse HTML with Beautiful Soup\n",
    "    soup = BeautifulSoup(html, 'html.parser')\n",
    "    #     Retrieve all elements that contain book information\n",
<<<<<<< HEAD
    "    article = soup.find_all('section', class_='image_and_description_container')\n",
    "    container = article.find(id=\"news\")\n",
=======
    "#     article = soup.find_all('section', class_='image_and_description_container')\n",
    "    container = soup.find(id=\"news\")\n",
>>>>>>> 6ef92f707c5c71f5affb1d078963775edb630959
    "\n",
    "    title = container.find_all('div', class_='content_title')\n",
    "    preview = container.find_all('div', class_='article_teaser_body')   \n",
    "\n",
    "\n",
    "    for item1, item2 in zip(title, preview): \n",
    "            dictionary={\"Title\":item1.text,\n",
    "            \"Preview\":item2.text}\n",
<<<<<<< HEAD
    "            titles_list.append(dictionary)\n",
    "            print(titles_list)\n",
=======
    "            print(dictionary)\n",
    "\n",
    "            \n",
>>>>>>> 6ef92f707c5c71f5affb1d078963775edb630959
    "\n",
    "\n",
    "\n",
    "\n"
   ]
  },
  {
   "cell_type": "code",
   "execution_count": null,
   "id": "35d3e645",
   "metadata": {},
   "outputs": [],
   "source": []
  },
  {
   "cell_type": "code",
   "execution_count": null,
   "id": "32b50d54",
   "metadata": {},
   "outputs": [],
   "source": []
  }
 ],
 "metadata": {
  "kernelspec": {
   "display_name": "PythonData",
   "language": "python",
   "name": "pythondata"
  },
  "language_info": {
   "codemirror_mode": {
    "name": "ipython",
    "version": 3
   },
   "file_extension": ".py",
   "mimetype": "text/x-python",
   "name": "python",
   "nbconvert_exporter": "python",
   "pygments_lexer": "ipython3",
   "version": "3.7.7"
  }
 },
 "nbformat": 4,
 "nbformat_minor": 5
}
