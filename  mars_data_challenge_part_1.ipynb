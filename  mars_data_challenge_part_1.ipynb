{
 "cells": [
  {
   "cell_type": "code",
   "execution_count": null,
   "id": "7eb5b872",
   "metadata": {},
   "outputs": [],
   "source": [
    "# Dependencies\n",
    "from splinter import Browser\n",
    "from bs4 import BeautifulSoup\n",
    "from webdriver_manager.chrome import ChromeDriverManager\n",
    "import requests"
   ]
  },
  {
   "cell_type": "code",
   "execution_count": null,
   "id": "72011a75",
   "metadata": {},
   "outputs": [],
   "source": [
    "executable_path = {'executable_path': ChromeDriverManager().install()}\n",
    "browser = Browser('chrome', **executable_path, headless=False)"
   ]
  },
  {
   "cell_type": "code",
   "execution_count": null,
   "id": "432f71a3",
   "metadata": {},
   "outputs": [],
   "source": [
    "url = 'https://redplanetscience.com/'\n",
    "browser.visit(url)"
   ]
  },
  {
   "cell_type": "code",
   "execution_count": null,
   "id": "88cfbfb6",
   "metadata": {},
   "outputs": [],
   "source": [
    "titles_list = []"
   ]
  },
  {
   "cell_type": "code",
   "execution_count": null,
   "id": "45fd1f71",
   "metadata": {},
   "outputs": [],
   "source": [
    "\n",
    "for x in range(1):\n",
    "    \n",
    "    html = browser.html\n",
    "    # Parse HTML with Beautiful Soup\n",
    "    soup = BeautifulSoup(html, 'html.parser')\n",
    "    #     Retrieve all elements that contain book information\n",
    "    article = soup.find_all('section', class_='image_and_description_container')\n",
    "    container = article.find(id=\"news\")\n",
    "\n",
    "    title = container.find_all('div', class_='content_title')\n",
    "    preview = container.find_all('div', class_='article_teaser_body')   \n",
    "\n",
    "\n",
    "    for item1, item2 in zip(title, preview): \n",
    "            dictionary={\"Title\":item1.text,\n",
    "            \"Preview\":item2.text}\n",
    "            titles_list.append(dictionary)\n",
    "            print(titles_list)\n",
    "\n",
    "\n",
    "\n",
    "\n"
   ]
  },
  {
   "cell_type": "code",
   "execution_count": null,
   "id": "35d3e645",
   "metadata": {},
   "outputs": [],
   "source": []
  },
  {
   "cell_type": "code",
   "execution_count": null,
   "id": "32b50d54",
   "metadata": {},
   "outputs": [],
   "source": []
  }
 ],
 "metadata": {
  "kernelspec": {
   "display_name": "PythonData",
   "language": "python",
   "name": "pythondata"
  },
  "language_info": {
   "codemirror_mode": {
    "name": "ipython",
    "version": 3
   },
   "file_extension": ".py",
   "mimetype": "text/x-python",
   "name": "python",
   "nbconvert_exporter": "python",
   "pygments_lexer": "ipython3",
   "version": "3.7.7"
  }
 },
 "nbformat": 4,
 "nbformat_minor": 5
}
